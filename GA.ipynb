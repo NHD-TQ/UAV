{
  "nbformat": 4,
  "nbformat_minor": 0,
  "metadata": {
    "colab": {
      "provenance": []
    },
    "kernelspec": {
      "name": "python3",
      "display_name": "Python 3"
    },
    "language_info": {
      "name": "python"
    }
  },
  "cells": [
    {
      "cell_type": "code",
      "source": [
        "import random\n",
        "import pandas as pd\n",
        "import numpy as np"
      ],
      "metadata": {
        "id": "pq5OfFa7mzV3"
      },
      "execution_count": 6,
      "outputs": []
    },
    {
      "cell_type": "code",
      "execution_count": 1,
      "metadata": {
        "id": "I2nd2by0mi21"
      },
      "outputs": [],
      "source": [
        "def get_fitness(individual):\n",
        "    \"......\"\n",
        "    return\n",
        "\n",
        "def get_population_fitness(population):\n",
        "    \"......\"\n",
        "    return"
      ]
    },
    {
      "cell_type": "code",
      "source": [
        "def crossover(individual_a, individual_b):\n",
        "    crossing_point = random.randint(0, 99)\n",
        "    offspring_a = individual_a[0:crossing_point] + individual_b[crossing_point:100]\n",
        "    offspring_b = individual_b[0:crossing_point] + individual_a[crossing_point:100]\n",
        "    return offspring_a, offspring_b\n",
        "\n",
        "def tournament(current_population):\n",
        "    index = sorted(random.sample(range(0, 20), 5))\n",
        "    tournament_members  = [current_population[i] for i in index]\n",
        "    total_fitness = sum([individual[1] for individual in tournament_members])\n",
        "    probabilities = [individual[1] / total_fitness for individual in tournament_members]\n",
        "    index_a, index_b = np.random.choice(5, size=2, p=probabilities)\n",
        "    return crossover(tournament_members[index_a][0], tournament_members[index_b][0])\n",
        "\n",
        "def mutation(individual):\n",
        "    mutation_point = random.randint(0, 99)\n",
        "    if(individual[mutation_point]):\n",
        "        individual[mutation_point] = 0\n",
        "    else:\n",
        "        individual[mutation_point] = 1\n",
        "\n",
        "def build_next_generation(current_population, mutation_rate):\n",
        "    next_generation = []\n",
        "    next_generation.append(current_population[0][0]) # elitism\n",
        "    next_generation.append(current_population[random.randint(1,19)][0]) # randomness\n",
        "\n",
        "    for i in range(9): # tournaments\n",
        "        offspring_a, offspring_b = tournament(current_population)\n",
        "        next_generation.append(offspring_a)\n",
        "        next_generation.append(offspring_b)\n",
        "\n",
        "    for individual in next_generation: # mutation\n",
        "        if(random.randint(1,mutation_rate) == 1):\n",
        "            mutation(individual)\n",
        "    return next_generation\n",
        "\n",
        ""
      ],
      "metadata": {
        "id": "kCZx9es1mt7b"
      },
      "execution_count": null,
      "outputs": []
    },
    {
      "cell_type": "code",
      "source": [
        "def run_ga(current_population, num_of_generations, mutation_rate=1000):\n",
        "    fittest_individuals = []\n",
        "    for i in range(num_of_generations):\n",
        "        current_population = get_population_fitness(current_population) # get pop fitness\n",
        "        fittest_individuals.append(current_population[0]) # record fittest individual (for graphing and analysis)\n",
        "        current_population = build_next_generation(current_population, mutation_rate) # make new population\n",
        "    return fittest_individuals\n",
        ""
      ],
      "metadata": {
        "id": "XlWRg_Xfm3te"
      },
      "execution_count": null,
      "outputs": []
    },
    {
      "cell_type": "code",
      "source": [
        "initial_population = [[random.randint(0, 1) for i in range(100)] for i in range(20)]"
      ],
      "metadata": {
        "id": "ZzQLs8PYs44l"
      },
      "execution_count": 3,
      "outputs": []
    },
    {
      "cell_type": "markdown",
      "source": [
        "RUN GA"
      ],
      "metadata": {
        "id": "gZKS6uMXu1s-"
      }
    },
    {
      "cell_type": "code",
      "source": [
        "initial_population = [[random.randint(0, 1) for i in range(100)] for i in range(20)]\n",
        "fittest = run_ga(initial_population, 100)"
      ],
      "metadata": {
        "id": "SWEnqwMJs68C"
      },
      "execution_count": null,
      "outputs": []
    }
  ]
}